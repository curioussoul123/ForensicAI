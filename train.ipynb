{
 "cells": [
  {
   "cell_type": "code",
   "id": "initial_id",
   "metadata": {
    "collapsed": true,
    "ExecuteTime": {
     "end_time": "2024-05-30T11:34:20.690206Z",
     "start_time": "2024-05-30T11:34:20.688138Z"
    }
   },
   "source": [
    "import pandas as pd\n",
    "import numpy as np\n",
    "import cv2\n",
    "from matplotlib import pyplot as plt\n",
    "from PIL import Image, ImageChops, ImageEnhance\n",
    "import os\n",
    "import joblib"
   ],
   "outputs": [],
   "execution_count": 2
  },
  {
   "metadata": {
    "ExecuteTime": {
     "end_time": "2024-05-30T11:34:38.664949Z",
     "start_time": "2024-05-30T11:34:38.653998Z"
    }
   },
   "cell_type": "code",
   "source": "import tensorflow as tf",
   "id": "1480d297e1a5a8bf",
   "outputs": [],
   "execution_count": 3
  },
  {
   "metadata": {
    "ExecuteTime": {
     "end_time": "2024-05-30T11:35:27.744889Z",
     "start_time": "2024-05-30T11:35:27.738084Z"
    }
   },
   "cell_type": "code",
   "source": "PATH = '/Users/nafeessiddiqui/PycharmProjects/pythonProject8/CASIA2/'\n",
   "id": "225b21185871e3fd",
   "outputs": [],
   "execution_count": 4
  },
  {
   "metadata": {
    "ExecuteTime": {
     "end_time": "2024-05-30T11:35:37.209762Z",
     "start_time": "2024-05-30T11:35:37.105264Z"
    }
   },
   "cell_type": "code",
   "source": [
    "# PATH_TP='./dataset/CASIA2/Tp/'\n",
    "data_label = ['Au', 'Tp']\n",
    "label_lst = []\n",
    "img_lst = []\n",
    "for label in data_label:\n",
    "    # print(label)\n",
    "    # print(os.listdir(PATH+label))\n",
    "    for img_file in os.listdir(PATH+label):\n",
    "        img_lst.append(PATH+label+'/'+img_file)\n",
    "        label_lst.append(label)\n",
    "    # print(label_lst)\n",
    "\n",
    "\n",
    "df = pd.DataFrame({'img': img_lst, 'label': label_lst})\n",
    "df.head()"
   ],
   "id": "3c41367f358c2818",
   "outputs": [
    {
     "data": {
      "text/plain": [
       "                                                 img label\n",
       "0  /Users/nafeessiddiqui/PycharmProjects/pythonPr...    Au\n",
       "1  /Users/nafeessiddiqui/PycharmProjects/pythonPr...    Au\n",
       "2  /Users/nafeessiddiqui/PycharmProjects/pythonPr...    Au\n",
       "3  /Users/nafeessiddiqui/PycharmProjects/pythonPr...    Au\n",
       "4  /Users/nafeessiddiqui/PycharmProjects/pythonPr...    Au"
      ],
      "text/html": [
       "<div>\n",
       "<style scoped>\n",
       "    .dataframe tbody tr th:only-of-type {\n",
       "        vertical-align: middle;\n",
       "    }\n",
       "\n",
       "    .dataframe tbody tr th {\n",
       "        vertical-align: top;\n",
       "    }\n",
       "\n",
       "    .dataframe thead th {\n",
       "        text-align: right;\n",
       "    }\n",
       "</style>\n",
       "<table border=\"1\" class=\"dataframe\">\n",
       "  <thead>\n",
       "    <tr style=\"text-align: right;\">\n",
       "      <th></th>\n",
       "      <th>img</th>\n",
       "      <th>label</th>\n",
       "    </tr>\n",
       "  </thead>\n",
       "  <tbody>\n",
       "    <tr>\n",
       "      <th>0</th>\n",
       "      <td>/Users/nafeessiddiqui/PycharmProjects/pythonPr...</td>\n",
       "      <td>Au</td>\n",
       "    </tr>\n",
       "    <tr>\n",
       "      <th>1</th>\n",
       "      <td>/Users/nafeessiddiqui/PycharmProjects/pythonPr...</td>\n",
       "      <td>Au</td>\n",
       "    </tr>\n",
       "    <tr>\n",
       "      <th>2</th>\n",
       "      <td>/Users/nafeessiddiqui/PycharmProjects/pythonPr...</td>\n",
       "      <td>Au</td>\n",
       "    </tr>\n",
       "    <tr>\n",
       "      <th>3</th>\n",
       "      <td>/Users/nafeessiddiqui/PycharmProjects/pythonPr...</td>\n",
       "      <td>Au</td>\n",
       "    </tr>\n",
       "    <tr>\n",
       "      <th>4</th>\n",
       "      <td>/Users/nafeessiddiqui/PycharmProjects/pythonPr...</td>\n",
       "      <td>Au</td>\n",
       "    </tr>\n",
       "  </tbody>\n",
       "</table>\n",
       "</div>"
      ]
     },
     "execution_count": 5,
     "metadata": {},
     "output_type": "execute_result"
    }
   ],
   "execution_count": 5
  },
  {
   "metadata": {
    "ExecuteTime": {
     "end_time": "2024-05-30T11:36:24.235594Z",
     "start_time": "2024-05-30T11:36:24.227348Z"
    }
   },
   "cell_type": "code",
   "source": [
    "path_resaved = '/Users/nafeessiddiqui/PycharmProjects/pythonProject8/CASIA2/resaved/'\n",
    "\n",
    "\n",
    "def difference(path):\n",
    "    filename = path\n",
    "    # print(path)\n",
    "    resaved_name = filename.split('.')[-2]+'_resaved.jpg'\n",
    "    # print(resaved_name)\n",
    "    resaved_name = path_resaved+resaved_name.split('/')[-1]\n",
    "    org = Image.open(filename).convert('RGB')\n",
    "    org.save(resaved_name, 'JPEG', quality=92)\n",
    "    resaved = Image.open(resaved_name)\n",
    "    diff = ImageChops.difference(org, resaved)\n",
    "    extrema = diff.getextrema()\n",
    "    max_diff = max([ex[1] for ex in extrema])\n",
    "    if max_diff == 0:\n",
    "        max_diff = 1\n",
    "    scale = 255.0 / max_diff\n",
    "\n",
    "    diff = ImageEnhance.Brightness(diff).enhance(scale)\n",
    "    # diff\n",
    "    return diff"
   ],
   "id": "a8817f04151e9adb",
   "outputs": [],
   "execution_count": 7
  },
  {
   "metadata": {
    "ExecuteTime": {
     "end_time": "2024-05-30T11:40:10.775557Z",
     "start_time": "2024-05-30T11:40:09.535677Z"
    }
   },
   "cell_type": "code",
   "source": [
    "from pylab import *\n",
    "from tensorflow.keras.utils import to_categorical\n",
    "\n",
    "X = []\n",
    "y = []\n",
    "\n",
    "for index, row in df.iterrows():\n",
    "    x = array(difference(row[0]).resize((128, 128))).flatten()/255.0\n",
    "    X.append(x)\n",
    "    if row[1] == 'Au':\n",
    "        y.append(0)\n",
    "    else:\n",
    "        y.append(1)\n",
    "\n",
    "X = np.array(X)\n",
    "X = X.reshape(-1, 128, 128, 3)\n",
    "\n",
    "Y = to_categorical(y, 2)"
   ],
   "id": "c19e116f2149bf1a",
   "outputs": [
    {
     "name": "stderr",
     "output_type": "stream",
     "text": [
      "/var/folders/3x/x1lh43kj2j5gclx6y2nz7vnm0000gn/T/ipykernel_39301/1765412876.py:8: FutureWarning: Series.__getitem__ treating keys as positions is deprecated. In a future version, integer keys will always be treated as labels (consistent with DataFrame behavior). To access a value by position, use `ser.iloc[pos]`\n",
      "  x = array(difference(row[0]).resize((128, 128))).flatten()/255.0\n",
      "/var/folders/3x/x1lh43kj2j5gclx6y2nz7vnm0000gn/T/ipykernel_39301/1765412876.py:10: FutureWarning: Series.__getitem__ treating keys as positions is deprecated. In a future version, integer keys will always be treated as labels (consistent with DataFrame behavior). To access a value by position, use `ser.iloc[pos]`\n",
      "  if row[1] == 'Au':\n"
     ]
    },
    {
     "ename": "UnidentifiedImageError",
     "evalue": "cannot identify image file '/Users/nafeessiddiqui/PycharmProjects/pythonProject8/CASIA2/Au/Thumbs.db'",
     "output_type": "error",
     "traceback": [
      "\u001B[0;31m---------------------------------------------------------------------------\u001B[0m",
      "\u001B[0;31mUnidentifiedImageError\u001B[0m                    Traceback (most recent call last)",
      "Cell \u001B[0;32mIn[13], line 8\u001B[0m\n\u001B[1;32m      5\u001B[0m y \u001B[38;5;241m=\u001B[39m []\n\u001B[1;32m      7\u001B[0m \u001B[38;5;28;01mfor\u001B[39;00m index, row \u001B[38;5;129;01min\u001B[39;00m df\u001B[38;5;241m.\u001B[39miterrows():\n\u001B[0;32m----> 8\u001B[0m     x \u001B[38;5;241m=\u001B[39m array(\u001B[43mdifference\u001B[49m\u001B[43m(\u001B[49m\u001B[43mrow\u001B[49m\u001B[43m[\u001B[49m\u001B[38;5;241;43m0\u001B[39;49m\u001B[43m]\u001B[49m\u001B[43m)\u001B[49m\u001B[38;5;241m.\u001B[39mresize((\u001B[38;5;241m128\u001B[39m, \u001B[38;5;241m128\u001B[39m)))\u001B[38;5;241m.\u001B[39mflatten()\u001B[38;5;241m/\u001B[39m\u001B[38;5;241m255.0\u001B[39m\n\u001B[1;32m      9\u001B[0m     X\u001B[38;5;241m.\u001B[39mappend(x)\n\u001B[1;32m     10\u001B[0m     \u001B[38;5;28;01mif\u001B[39;00m row[\u001B[38;5;241m1\u001B[39m] \u001B[38;5;241m==\u001B[39m \u001B[38;5;124m'\u001B[39m\u001B[38;5;124mAu\u001B[39m\u001B[38;5;124m'\u001B[39m:\n",
      "Cell \u001B[0;32mIn[7], line 10\u001B[0m, in \u001B[0;36mdifference\u001B[0;34m(path)\u001B[0m\n\u001B[1;32m      8\u001B[0m \u001B[38;5;66;03m# print(resaved_name)\u001B[39;00m\n\u001B[1;32m      9\u001B[0m resaved_name \u001B[38;5;241m=\u001B[39m path_resaved\u001B[38;5;241m+\u001B[39mresaved_name\u001B[38;5;241m.\u001B[39msplit(\u001B[38;5;124m'\u001B[39m\u001B[38;5;124m/\u001B[39m\u001B[38;5;124m'\u001B[39m)[\u001B[38;5;241m-\u001B[39m\u001B[38;5;241m1\u001B[39m]\n\u001B[0;32m---> 10\u001B[0m org \u001B[38;5;241m=\u001B[39m \u001B[43mImage\u001B[49m\u001B[38;5;241;43m.\u001B[39;49m\u001B[43mopen\u001B[49m\u001B[43m(\u001B[49m\u001B[43mfilename\u001B[49m\u001B[43m)\u001B[49m\u001B[38;5;241m.\u001B[39mconvert(\u001B[38;5;124m'\u001B[39m\u001B[38;5;124mRGB\u001B[39m\u001B[38;5;124m'\u001B[39m)\n\u001B[1;32m     11\u001B[0m org\u001B[38;5;241m.\u001B[39msave(resaved_name, \u001B[38;5;124m'\u001B[39m\u001B[38;5;124mJPEG\u001B[39m\u001B[38;5;124m'\u001B[39m, quality\u001B[38;5;241m=\u001B[39m\u001B[38;5;241m92\u001B[39m)\n\u001B[1;32m     12\u001B[0m resaved \u001B[38;5;241m=\u001B[39m Image\u001B[38;5;241m.\u001B[39mopen(resaved_name)\n",
      "File \u001B[0;32m~/PycharmProjects/pythonProject8/.venv/lib/python3.10/site-packages/PIL/Image.py:3339\u001B[0m, in \u001B[0;36mopen\u001B[0;34m(fp, mode, formats)\u001B[0m\n\u001B[1;32m   3337\u001B[0m     warnings\u001B[38;5;241m.\u001B[39mwarn(message)\n\u001B[1;32m   3338\u001B[0m msg \u001B[38;5;241m=\u001B[39m \u001B[38;5;124m\"\u001B[39m\u001B[38;5;124mcannot identify image file \u001B[39m\u001B[38;5;132;01m%r\u001B[39;00m\u001B[38;5;124m\"\u001B[39m \u001B[38;5;241m%\u001B[39m (filename \u001B[38;5;28;01mif\u001B[39;00m filename \u001B[38;5;28;01melse\u001B[39;00m fp)\n\u001B[0;32m-> 3339\u001B[0m \u001B[38;5;28;01mraise\u001B[39;00m UnidentifiedImageError(msg)\n",
      "\u001B[0;31mUnidentifiedImageError\u001B[0m: cannot identify image file '/Users/nafeessiddiqui/PycharmProjects/pythonProject8/CASIA2/Au/Thumbs.db'"
     ]
    }
   ],
   "execution_count": 13
  },
  {
   "metadata": {
    "ExecuteTime": {
     "end_time": "2024-05-30T11:44:35.705514Z",
     "start_time": "2024-05-30T11:43:46.706418Z"
    }
   },
   "cell_type": "code",
   "source": [
    "import pandas as pd\n",
    "import numpy as np\n",
    "import os\n",
    "from PIL import Image\n",
    "from tensorflow.keras.utils import to_categorical\n",
    "\n",
    "# Define the path to the dataset\n",
    "PATH = '/Users/nafeessiddiqui/Desktop/Projects/Image-Forgery-Detection-master 2/CASIA2'\n",
    "\n",
    "# Define the labels\n",
    "data_label = ['Au', 'Tp']\n",
    "label_lst = []\n",
    "img_lst = []\n",
    "\n",
    "# Supported image file extensions\n",
    "image_extensions = ['.png', '.jpg', '.jpeg', '.bmp', '.gif']\n",
    "\n",
    "# Loop through the labels and image files to create lists of file paths and labels\n",
    "for label in data_label:\n",
    "    for img_file in os.listdir(os.path.join(PATH, label)):\n",
    "        if os.path.splitext(img_file)[1].lower() in image_extensions:\n",
    "            img_lst.append(os.path.join(PATH, label, img_file))\n",
    "            label_lst.append(label)\n",
    "\n",
    "# Create a DataFrame from the lists\n",
    "df = pd.DataFrame({'img': img_lst, 'label': label_lst})\n",
    "\n",
    "# Initialize lists to hold the data and labels\n",
    "X = []\n",
    "y = []\n",
    "\n",
    "# Process each image and label\n",
    "for index, row in df.iterrows():\n",
    "    try:\n",
    "        img = Image.open(row['img'])\n",
    "        img = img.resize((128, 128))\n",
    "        img = np.array(img).flatten() / 255.0\n",
    "        X.append(img)\n",
    "        if row['label'] == 'Au':\n",
    "            y.append(0)\n",
    "        else:\n",
    "            y.append(1)\n",
    "    except Exception as e:\n",
    "        print(f\"Error processing image {row['img']}: {e}\")\n",
    "\n",
    "# Convert lists to numpy arrays\n",
    "X = np.array(X)\n",
    "X = X.reshape(-1, 128, 128, 3)\n",
    "\n",
    "# One-hot encode the labels\n",
    "Y = to_categorical(y, 2)\n",
    "\n",
    "print(X.shape)\n",
    "print(Y.shape)\n"
   ],
   "id": "fe2d84ee6ff8055d",
   "outputs": [
    {
     "name": "stdout",
     "output_type": "stream",
     "text": [
      "(9555, 128, 128, 3)\n",
      "(9555, 2)\n"
     ]
    }
   ],
   "execution_count": 16
  },
  {
   "metadata": {
    "ExecuteTime": {
     "end_time": "2024-05-30T11:44:42.187102Z",
     "start_time": "2024-05-30T11:44:42.165835Z"
    }
   },
   "cell_type": "code",
   "source": [
    "# x=difference(df['img'][9000]).resize((128, 128))\n",
    "# # .flatten()/255.0\n",
    "# x=array(x)\n",
    "# print(x.shape)\n",
    "# x.flatten().shape\n",
    "# x\n",
    "Image.fromarray(X[0], 'RGB')\n",
    "# Image.fromarray(X[10].reshape((128,128,3)),'RGB')"
   ],
   "id": "df4608d2b4b194ae",
   "outputs": [
    {
     "data": {
      "text/plain": [
       "<PIL.Image.Image image mode=RGB size=128x128>"
      ],
      "image/png": "[encoded data removed]",
      "image/jpeg": "[encoded data removed]"
     },
     "execution_count": 17,
     "metadata": {},
     "output_type": "execute_result"
    }
   ],
   "execution_count": 17
  },
  {
   "metadata": {
    "ExecuteTime": {
     "end_time": "2024-05-30T11:45:12.719678Z",
     "start_time": "2024-05-30T11:44:52.833340Z"
    }
   },
   "cell_type": "code",
   "source": [
    "from sklearn.model_selection import train_test_split\n",
    "\n",
    "X_train, X_test, y_train, y_test = train_test_split(\n",
    "    X, Y, test_size=0.20,  shuffle=True, stratify=Y)"
   ],
   "id": "450467db4542ac5b",
   "outputs": [],
   "execution_count": 18
  },
  {
   "metadata": {
    "ExecuteTime": {
     "end_time": "2024-05-30T11:45:22.870395Z",
     "start_time": "2024-05-30T11:45:22.860492Z"
    }
   },
   "cell_type": "code",
   "source": [
    "print(X_train.shape, X_test.shape)\n",
    "print(type(Y))"
   ],
   "id": "c326499217e99961",
   "outputs": [
    {
     "name": "stdout",
     "output_type": "stream",
     "text": [
      "(7644, 128, 128, 3) (1911, 128, 128, 3)\n",
      "<class 'numpy.ndarray'>\n"
     ]
    }
   ],
   "execution_count": 19
  },
  {
   "metadata": {
    "ExecuteTime": {
     "end_time": "2024-05-30T11:45:35.062034Z",
     "start_time": "2024-05-30T11:45:35.038436Z"
    }
   },
   "cell_type": "code",
   "source": "Y.shape",
   "id": "be097ce4c06a4fdc",
   "outputs": [
    {
     "data": {
      "text/plain": [
       "(9555, 2)"
      ]
     },
     "execution_count": 20,
     "metadata": {},
     "output_type": "execute_result"
    }
   ],
   "execution_count": 20
  },
  {
   "metadata": {
    "ExecuteTime": {
     "end_time": "2024-05-30T11:45:47.418333Z",
     "start_time": "2024-05-30T11:45:47.403807Z"
    }
   },
   "cell_type": "code",
   "source": [
    "# extra \n",
    "\n",
    "from tensorflow.keras.utils import Sequence\n",
    "import numpy as np\n",
    "\n",
    "\n",
    "class DataGenerator(Sequence):\n",
    "    def __init__(self, x_set, y_set, batch_size):\n",
    "        self.x, self.y = x_set, y_set\n",
    "        self.batch_size = batch_size\n",
    "\n",
    "    def __len__(self):\n",
    "        return int(np.ceil(len(self.x) / float(self.batch_size)))\n",
    "\n",
    "    def __getitem__(self, idx):\n",
    "        batch_x = self.x[idx * self.batch_size:(idx + 1) * self.batch_size]\n",
    "        batch_y = self.y[idx * self.batch_size:(idx + 1) * self.batch_size]\n",
    "        return batch_x, batch_y\n",
    "\n",
    "\n",
    "train_gen = DataGenerator(X_train, y_train, 32)\n",
    "test_gen = DataGenerator(X_test, y_test, 32)"
   ],
   "id": "b26de440bbeb9ac5",
   "outputs": [],
   "execution_count": 21
  },
  {
   "metadata": {
    "ExecuteTime": {
     "end_time": "2024-05-30T11:46:13.816626Z",
     "start_time": "2024-05-30T11:46:13.802144Z"
    }
   },
   "cell_type": "code",
   "source": [
    "def build_model(activation='sigmoid'):\n",
    "\n",
    "    model = tf.keras.Sequential()\n",
    "    # input layer\n",
    "    model.add(tf.keras.layers.Conv2D(kernel_size=(3, 3), filters=32,\n",
    "              input_shape=[128, 128, 3], activation='relu'))\n",
    "\n",
    "    # hidden layers\n",
    "    model.add(tf.keras.layers.Conv2D(filters=32, padding='valid',\n",
    "              kernel_size=(3,3), activation='relu'))\n",
    "    model.add(tf.keras.layers.Conv2D(filters=32, padding='valid',\n",
    "              kernel_size=(5, 5), activation='relu'))\n",
    "    # pooling\n",
    "    model.add(tf.keras.layers.MaxPool2D(\n",
    "        pool_size=2, padding='valid', data_format='channels_last'))\n",
    "    model.add(tf.keras.layers.Dropout(.50))\n",
    "    # flatten\n",
    "    model.add(tf.keras.layers.Flatten())\n",
    "\n",
    "    model.add(tf.keras.layers.Dense(256, activation='relu'))\n",
    "    model.add(tf.keras.layers.Dropout(.25))\n",
    "    \n",
    "    # model.add(tf.keras.layers.Dense(256, activation='relu'))\n",
    "    # model.add(tf.keras.layers.Dropout(.50))\n",
    "\n",
    "    # output layer\n",
    "    model.add(tf.keras.layers.Dense(2, activation=activation))\n",
    "    return model"
   ],
   "id": "515bacd98454fe28",
   "outputs": [],
   "execution_count": 22
  },
  {
   "metadata": {
    "ExecuteTime": {
     "end_time": "2024-05-30T11:46:23.933642Z",
     "start_time": "2024-05-30T11:46:23.407844Z"
    }
   },
   "cell_type": "code",
   "source": [
    "softmax_adam = build_model('softmax')\n",
    "softmax_adam.summary()"
   ],
   "id": "67d02e4fe096a92d",
   "outputs": [
    {
     "name": "stderr",
     "output_type": "stream",
     "text": [
      "/Users/nafeessiddiqui/PycharmProjects/pythonProject8/.venv/lib/python3.10/site-packages/keras/src/layers/convolutional/base_conv.py:107: UserWarning: Do not pass an `input_shape`/`input_dim` argument to a layer. When using Sequential models, prefer using an `Input(shape)` object as the first layer in the model instead.\n",
      "  super().__init__(activity_regularizer=activity_regularizer, **kwargs)\n"
     ]
    },
    {
     "data": {
      "text/plain": [
       "\u001B[1mModel: \"sequential\"\u001B[0m\n"
      ],
      "text/html": [
       "<pre style=\"white-space:pre;overflow-x:auto;line-height:normal;font-family:Menlo,'DejaVu Sans Mono',consolas,'Courier New',monospace\"><span style=\"font-weight: bold\">Model: \"sequential\"</span>\n",
       "</pre>\n"
      ]
     },
     "metadata": {},
     "output_type": "display_data"
    },
    {
     "data": {
      "text/plain": [
       "┏━━━━━━━━━━━━━━━━━━━━━━━━━━━━━━━━━┳━━━━━━━━━━━━━━━━━━━━━━━━┳━━━━━━━━━━━━━━━┓\n",
       "┃\u001B[1m \u001B[0m\u001B[1mLayer (type)                   \u001B[0m\u001B[1m \u001B[0m┃\u001B[1m \u001B[0m\u001B[1mOutput Shape          \u001B[0m\u001B[1m \u001B[0m┃\u001B[1m \u001B[0m\u001B[1m      Param #\u001B[0m\u001B[1m \u001B[0m┃\n",
       "┡━━━━━━━━━━━━━━━━━━━━━━━━━━━━━━━━━╇━━━━━━━━━━━━━━━━━━━━━━━━╇━━━━━━━━━━━━━━━┩\n",
       "│ conv2d (\u001B[38;5;33mConv2D\u001B[0m)                 │ (\u001B[38;5;45mNone\u001B[0m, \u001B[38;5;34m126\u001B[0m, \u001B[38;5;34m126\u001B[0m, \u001B[38;5;34m32\u001B[0m)   │           \u001B[38;5;34m896\u001B[0m │\n",
       "├─────────────────────────────────┼────────────────────────┼───────────────┤\n",
       "│ conv2d_1 (\u001B[38;5;33mConv2D\u001B[0m)               │ (\u001B[38;5;45mNone\u001B[0m, \u001B[38;5;34m124\u001B[0m, \u001B[38;5;34m124\u001B[0m, \u001B[38;5;34m32\u001B[0m)   │         \u001B[38;5;34m9,248\u001B[0m │\n",
       "├─────────────────────────────────┼────────────────────────┼───────────────┤\n",
       "│ conv2d_2 (\u001B[38;5;33mConv2D\u001B[0m)               │ (\u001B[38;5;45mNone\u001B[0m, \u001B[38;5;34m120\u001B[0m, \u001B[38;5;34m120\u001B[0m, \u001B[38;5;34m32\u001B[0m)   │        \u001B[38;5;34m25,632\u001B[0m │\n",
       "├─────────────────────────────────┼────────────────────────┼───────────────┤\n",
       "│ max_pooling2d (\u001B[38;5;33mMaxPooling2D\u001B[0m)    │ (\u001B[38;5;45mNone\u001B[0m, \u001B[38;5;34m60\u001B[0m, \u001B[38;5;34m60\u001B[0m, \u001B[38;5;34m32\u001B[0m)     │             \u001B[38;5;34m0\u001B[0m │\n",
       "├─────────────────────────────────┼────────────────────────┼───────────────┤\n",
       "│ dropout (\u001B[38;5;33mDropout\u001B[0m)               │ (\u001B[38;5;45mNone\u001B[0m, \u001B[38;5;34m60\u001B[0m, \u001B[38;5;34m60\u001B[0m, \u001B[38;5;34m32\u001B[0m)     │             \u001B[38;5;34m0\u001B[0m │\n",
       "├─────────────────────────────────┼────────────────────────┼───────────────┤\n",
       "│ flatten (\u001B[38;5;33mFlatten\u001B[0m)               │ (\u001B[38;5;45mNone\u001B[0m, \u001B[38;5;34m115200\u001B[0m)         │             \u001B[38;5;34m0\u001B[0m │\n",
       "├─────────────────────────────────┼────────────────────────┼───────────────┤\n",
       "│ dense (\u001B[38;5;33mDense\u001B[0m)                   │ (\u001B[38;5;45mNone\u001B[0m, \u001B[38;5;34m256\u001B[0m)            │    \u001B[38;5;34m29,491,456\u001B[0m │\n",
       "├─────────────────────────────────┼────────────────────────┼───────────────┤\n",
       "│ dropout_1 (\u001B[38;5;33mDropout\u001B[0m)             │ (\u001B[38;5;45mNone\u001B[0m, \u001B[38;5;34m256\u001B[0m)            │             \u001B[38;5;34m0\u001B[0m │\n",
       "├─────────────────────────────────┼────────────────────────┼───────────────┤\n",
       "│ dense_1 (\u001B[38;5;33mDense\u001B[0m)                 │ (\u001B[38;5;45mNone\u001B[0m, \u001B[38;5;34m2\u001B[0m)              │           \u001B[38;5;34m514\u001B[0m │\n",
       "└─────────────────────────────────┴────────────────────────┴───────────────┘\n"
      ],
      "text/html": [
       "<pre style=\"white-space:pre;overflow-x:auto;line-height:normal;font-family:Menlo,'DejaVu Sans Mono',consolas,'Courier New',monospace\">┏━━━━━━━━━━━━━━━━━━━━━━━━━━━━━━━━━┳━━━━━━━━━━━━━━━━━━━━━━━━┳━━━━━━━━━━━━━━━┓\n",
       "┃<span style=\"font-weight: bold\"> Layer (type)                    </span>┃<span style=\"font-weight: bold\"> Output Shape           </span>┃<span style=\"font-weight: bold\">       Param # </span>┃\n",
       "┡━━━━━━━━━━━━━━━━━━━━━━━━━━━━━━━━━╇━━━━━━━━━━━━━━━━━━━━━━━━╇━━━━━━━━━━━━━━━┩\n",
       "│ conv2d (<span style=\"color: #0087ff; text-decoration-color: #0087ff\">Conv2D</span>)                 │ (<span style=\"color: #00d7ff; text-decoration-color: #00d7ff\">None</span>, <span style=\"color: #00af00; text-decoration-color: #00af00\">126</span>, <span style=\"color: #00af00; text-decoration-color: #00af00\">126</span>, <span style=\"color: #00af00; text-decoration-color: #00af00\">32</span>)   │           <span style=\"color: #00af00; text-decoration-color: #00af00\">896</span> │\n",
       "├─────────────────────────────────┼────────────────────────┼───────────────┤\n",
       "│ conv2d_1 (<span style=\"color: #0087ff; text-decoration-color: #0087ff\">Conv2D</span>)               │ (<span style=\"color: #00d7ff; text-decoration-color: #00d7ff\">None</span>, <span style=\"color: #00af00; text-decoration-color: #00af00\">124</span>, <span style=\"color: #00af00; text-decoration-color: #00af00\">124</span>, <span style=\"color: #00af00; text-decoration-color: #00af00\">32</span>)   │         <span style=\"color: #00af00; text-decoration-color: #00af00\">9,248</span> │\n",
       "├─────────────────────────────────┼────────────────────────┼───────────────┤\n",
       "│ conv2d_2 (<span style=\"color: #0087ff; text-decoration-color: #0087ff\">Conv2D</span>)               │ (<span style=\"color: #00d7ff; text-decoration-color: #00d7ff\">None</span>, <span style=\"color: #00af00; text-decoration-color: #00af00\">120</span>, <span style=\"color: #00af00; text-decoration-color: #00af00\">120</span>, <span style=\"color: #00af00; text-decoration-color: #00af00\">32</span>)   │        <span style=\"color: #00af00; text-decoration-color: #00af00\">25,632</span> │\n",
       "├─────────────────────────────────┼────────────────────────┼───────────────┤\n",
       "│ max_pooling2d (<span style=\"color: #0087ff; text-decoration-color: #0087ff\">MaxPooling2D</span>)    │ (<span style=\"color: #00d7ff; text-decoration-color: #00d7ff\">None</span>, <span style=\"color: #00af00; text-decoration-color: #00af00\">60</span>, <span style=\"color: #00af00; text-decoration-color: #00af00\">60</span>, <span style=\"color: #00af00; text-decoration-color: #00af00\">32</span>)     │             <span style=\"color: #00af00; text-decoration-color: #00af00\">0</span> │\n",
       "├─────────────────────────────────┼────────────────────────┼───────────────┤\n",
       "│ dropout (<span style=\"color: #0087ff; text-decoration-color: #0087ff\">Dropout</span>)               │ (<span style=\"color: #00d7ff; text-decoration-color: #00d7ff\">None</span>, <span style=\"color: #00af00; text-decoration-color: #00af00\">60</span>, <span style=\"color: #00af00; text-decoration-color: #00af00\">60</span>, <span style=\"color: #00af00; text-decoration-color: #00af00\">32</span>)     │             <span style=\"color: #00af00; text-decoration-color: #00af00\">0</span> │\n",
       "├─────────────────────────────────┼────────────────────────┼───────────────┤\n",
       "│ flatten (<span style=\"color: #0087ff; text-decoration-color: #0087ff\">Flatten</span>)               │ (<span style=\"color: #00d7ff; text-decoration-color: #00d7ff\">None</span>, <span style=\"color: #00af00; text-decoration-color: #00af00\">115200</span>)         │             <span style=\"color: #00af00; text-decoration-color: #00af00\">0</span> │\n",
       "├─────────────────────────────────┼────────────────────────┼───────────────┤\n",
       "│ dense (<span style=\"color: #0087ff; text-decoration-color: #0087ff\">Dense</span>)                   │ (<span style=\"color: #00d7ff; text-decoration-color: #00d7ff\">None</span>, <span style=\"color: #00af00; text-decoration-color: #00af00\">256</span>)            │    <span style=\"color: #00af00; text-decoration-color: #00af00\">29,491,456</span> │\n",
       "├─────────────────────────────────┼────────────────────────┼───────────────┤\n",
       "│ dropout_1 (<span style=\"color: #0087ff; text-decoration-color: #0087ff\">Dropout</span>)             │ (<span style=\"color: #00d7ff; text-decoration-color: #00d7ff\">None</span>, <span style=\"color: #00af00; text-decoration-color: #00af00\">256</span>)            │             <span style=\"color: #00af00; text-decoration-color: #00af00\">0</span> │\n",
       "├─────────────────────────────────┼────────────────────────┼───────────────┤\n",
       "│ dense_1 (<span style=\"color: #0087ff; text-decoration-color: #0087ff\">Dense</span>)                 │ (<span style=\"color: #00d7ff; text-decoration-color: #00d7ff\">None</span>, <span style=\"color: #00af00; text-decoration-color: #00af00\">2</span>)              │           <span style=\"color: #00af00; text-decoration-color: #00af00\">514</span> │\n",
       "└─────────────────────────────────┴────────────────────────┴───────────────┘\n",
       "</pre>\n"
      ]
     },
     "metadata": {},
     "output_type": "display_data"
    },
    {
     "data": {
      "text/plain": [
       "\u001B[1m Total params: \u001B[0m\u001B[38;5;34m29,527,746\u001B[0m (112.64 MB)\n"
      ],
      "text/html": [
       "<pre style=\"white-space:pre;overflow-x:auto;line-height:normal;font-family:Menlo,'DejaVu Sans Mono',consolas,'Courier New',monospace\"><span style=\"font-weight: bold\"> Total params: </span><span style=\"color: #00af00; text-decoration-color: #00af00\">29,527,746</span> (112.64 MB)\n",
       "</pre>\n"
      ]
     },
     "metadata": {},
     "output_type": "display_data"
    },
    {
     "data": {
      "text/plain": [
       "\u001B[1m Trainable params: \u001B[0m\u001B[38;5;34m29,527,746\u001B[0m (112.64 MB)\n"
      ],
      "text/html": [
       "<pre style=\"white-space:pre;overflow-x:auto;line-height:normal;font-family:Menlo,'DejaVu Sans Mono',consolas,'Courier New',monospace\"><span style=\"font-weight: bold\"> Trainable params: </span><span style=\"color: #00af00; text-decoration-color: #00af00\">29,527,746</span> (112.64 MB)\n",
       "</pre>\n"
      ]
     },
     "metadata": {},
     "output_type": "display_data"
    },
    {
     "data": {
      "text/plain": [
       "\u001B[1m Non-trainable params: \u001B[0m\u001B[38;5;34m0\u001B[0m (0.00 B)\n"
      ],
      "text/html": [
       "<pre style=\"white-space:pre;overflow-x:auto;line-height:normal;font-family:Menlo,'DejaVu Sans Mono',consolas,'Courier New',monospace\"><span style=\"font-weight: bold\"> Non-trainable params: </span><span style=\"color: #00af00; text-decoration-color: #00af00\">0</span> (0.00 B)\n",
       "</pre>\n"
      ]
     },
     "metadata": {},
     "output_type": "display_data"
    }
   ],
   "execution_count": 23
  },
  {
   "metadata": {
    "ExecuteTime": {
     "end_time": "2024-05-30T11:46:49.761681Z",
     "start_time": "2024-05-30T11:46:49.749415Z"
    }
   },
   "cell_type": "code",
   "source": "X_train.shape",
   "id": "ce3f4934d2721755",
   "outputs": [
    {
     "data": {
      "text/plain": [
       "(7644, 128, 128, 3)"
      ]
     },
     "execution_count": 24,
     "metadata": {},
     "output_type": "execute_result"
    }
   ],
   "execution_count": 24
  },
  {
   "metadata": {
    "ExecuteTime": {
     "end_time": "2024-05-30T11:46:58.749136Z",
     "start_time": "2024-05-30T11:46:58.736712Z"
    }
   },
   "cell_type": "code",
   "source": "y_train.shape",
   "id": "2136f353587933d2",
   "outputs": [
    {
     "data": {
      "text/plain": [
       "(7644, 2)"
      ]
     },
     "execution_count": 25,
     "metadata": {},
     "output_type": "execute_result"
    }
   ],
   "execution_count": 25
  },
  {
   "metadata": {
    "ExecuteTime": {
     "end_time": "2024-05-30T14:07:08.563177Z",
     "start_time": "2024-05-30T14:07:08.476587Z"
    }
   },
   "cell_type": "code",
   "source": [
    "# from sklearn.metrics import f1_score\n",
    "from keras import metrics\n",
    "\n",
    "adam = tf.keras.optimizers.Adam(learning_rate=0.001, epsilon=1e-08)\n",
    "epoch = 30\n",
    "batch_size = 10\n",
    "cal1 = tf.keras.callbacks.ModelCheckpoint(save_best_only=True, filepath='softmax_adam_n.keras')\n",
    "cal2 = tf.keras.callbacks.EarlyStopping(patience=5)\n",
    "# optimizer = RMSprop(lr=lr, rho=0.9, epsilon=1e-08, decay=0.0)\n",
    "# softmax_adam.compile(optimizer='adam', loss= 'binary_crossentropy', metrics=['accuracy'])\n",
    "softmax_adam.compile(optimizer='adam', loss='binary_crossentropy',\n",
    "                metrics=['accuracy', 'mse'])\n",
    "history = softmax_adam.fit(train_gen, validation_data=test_gen,  epochs=epoch, callbacks=[cal1])\n",
    "history = history.history\n",
    "    "
   ],
   "id": "b94e4acb9201e590",
   "outputs": [
    {
     "name": "stdout",
     "output_type": "stream",
     "text": [
      "Epoch 1/30\n"
     ]
    },
    {
     "ename": "ValueError",
     "evalue": "Arguments `target` and `output` must have the same rank (ndim). Received: target.shape=(None,), output.shape=(None, 128, 128, 1)",
     "output_type": "error",
     "traceback": [
      "\u001B[0;31m---------------------------------------------------------------------------\u001B[0m",
      "\u001B[0;31mValueError\u001B[0m                                Traceback (most recent call last)",
      "Cell \u001B[0;32mIn[52], line 13\u001B[0m\n\u001B[1;32m      9\u001B[0m \u001B[38;5;66;03m# optimizer = RMSprop(lr=lr, rho=0.9, epsilon=1e-08, decay=0.0)\u001B[39;00m\n\u001B[1;32m     10\u001B[0m \u001B[38;5;66;03m# softmax_adam.compile(optimizer='adam', loss= 'binary_crossentropy', metrics=['accuracy'])\u001B[39;00m\n\u001B[1;32m     11\u001B[0m softmax_adam\u001B[38;5;241m.\u001B[39mcompile(optimizer\u001B[38;5;241m=\u001B[39m\u001B[38;5;124m'\u001B[39m\u001B[38;5;124madam\u001B[39m\u001B[38;5;124m'\u001B[39m, loss\u001B[38;5;241m=\u001B[39m\u001B[38;5;124m'\u001B[39m\u001B[38;5;124mbinary_crossentropy\u001B[39m\u001B[38;5;124m'\u001B[39m,\n\u001B[1;32m     12\u001B[0m                 metrics\u001B[38;5;241m=\u001B[39m[\u001B[38;5;124m'\u001B[39m\u001B[38;5;124maccuracy\u001B[39m\u001B[38;5;124m'\u001B[39m, \u001B[38;5;124m'\u001B[39m\u001B[38;5;124mmse\u001B[39m\u001B[38;5;124m'\u001B[39m])\n\u001B[0;32m---> 13\u001B[0m history \u001B[38;5;241m=\u001B[39m \u001B[43msoftmax_adam\u001B[49m\u001B[38;5;241;43m.\u001B[39;49m\u001B[43mfit\u001B[49m\u001B[43m(\u001B[49m\u001B[43mtrain_gen\u001B[49m\u001B[43m,\u001B[49m\u001B[43m \u001B[49m\u001B[43mvalidation_data\u001B[49m\u001B[38;5;241;43m=\u001B[39;49m\u001B[43mtest_gen\u001B[49m\u001B[43m,\u001B[49m\u001B[43m  \u001B[49m\u001B[43mepochs\u001B[49m\u001B[38;5;241;43m=\u001B[39;49m\u001B[43mepoch\u001B[49m\u001B[43m,\u001B[49m\u001B[43m \u001B[49m\u001B[43mcallbacks\u001B[49m\u001B[38;5;241;43m=\u001B[39;49m\u001B[43m[\u001B[49m\u001B[43mcal1\u001B[49m\u001B[43m]\u001B[49m\u001B[43m)\u001B[49m\n\u001B[1;32m     14\u001B[0m history \u001B[38;5;241m=\u001B[39m history\u001B[38;5;241m.\u001B[39mhistory\n",
      "File \u001B[0;32m~/PycharmProjects/pythonProject8/.venv/lib/python3.10/site-packages/keras/src/utils/traceback_utils.py:122\u001B[0m, in \u001B[0;36mfilter_traceback.<locals>.error_handler\u001B[0;34m(*args, **kwargs)\u001B[0m\n\u001B[1;32m    119\u001B[0m     filtered_tb \u001B[38;5;241m=\u001B[39m _process_traceback_frames(e\u001B[38;5;241m.\u001B[39m__traceback__)\n\u001B[1;32m    120\u001B[0m     \u001B[38;5;66;03m# To get the full stack trace, call:\u001B[39;00m\n\u001B[1;32m    121\u001B[0m     \u001B[38;5;66;03m# `keras.config.disable_traceback_filtering()`\u001B[39;00m\n\u001B[0;32m--> 122\u001B[0m     \u001B[38;5;28;01mraise\u001B[39;00m e\u001B[38;5;241m.\u001B[39mwith_traceback(filtered_tb) \u001B[38;5;28;01mfrom\u001B[39;00m \u001B[38;5;28;01mNone\u001B[39;00m\n\u001B[1;32m    123\u001B[0m \u001B[38;5;28;01mfinally\u001B[39;00m:\n\u001B[1;32m    124\u001B[0m     \u001B[38;5;28;01mdel\u001B[39;00m filtered_tb\n",
      "File \u001B[0;32m~/PycharmProjects/pythonProject8/.venv/lib/python3.10/site-packages/keras/src/backend/tensorflow/nn.py:661\u001B[0m, in \u001B[0;36mbinary_crossentropy\u001B[0;34m(target, output, from_logits)\u001B[0m\n\u001B[1;32m    658\u001B[0m output \u001B[38;5;241m=\u001B[39m tf\u001B[38;5;241m.\u001B[39mconvert_to_tensor(output)\n\u001B[1;32m    660\u001B[0m \u001B[38;5;28;01mif\u001B[39;00m \u001B[38;5;28mlen\u001B[39m(target\u001B[38;5;241m.\u001B[39mshape) \u001B[38;5;241m!=\u001B[39m \u001B[38;5;28mlen\u001B[39m(output\u001B[38;5;241m.\u001B[39mshape):\n\u001B[0;32m--> 661\u001B[0m     \u001B[38;5;28;01mraise\u001B[39;00m \u001B[38;5;167;01mValueError\u001B[39;00m(\n\u001B[1;32m    662\u001B[0m         \u001B[38;5;124m\"\u001B[39m\u001B[38;5;124mArguments `target` and `output` must have the same rank \u001B[39m\u001B[38;5;124m\"\u001B[39m\n\u001B[1;32m    663\u001B[0m         \u001B[38;5;124m\"\u001B[39m\u001B[38;5;124m(ndim). Received: \u001B[39m\u001B[38;5;124m\"\u001B[39m\n\u001B[1;32m    664\u001B[0m         \u001B[38;5;124mf\u001B[39m\u001B[38;5;124m\"\u001B[39m\u001B[38;5;124mtarget.shape=\u001B[39m\u001B[38;5;132;01m{\u001B[39;00mtarget\u001B[38;5;241m.\u001B[39mshape\u001B[38;5;132;01m}\u001B[39;00m\u001B[38;5;124m, output.shape=\u001B[39m\u001B[38;5;132;01m{\u001B[39;00moutput\u001B[38;5;241m.\u001B[39mshape\u001B[38;5;132;01m}\u001B[39;00m\u001B[38;5;124m\"\u001B[39m\n\u001B[1;32m    665\u001B[0m     )\n\u001B[1;32m    666\u001B[0m \u001B[38;5;28;01mfor\u001B[39;00m e1, e2 \u001B[38;5;129;01min\u001B[39;00m \u001B[38;5;28mzip\u001B[39m(target\u001B[38;5;241m.\u001B[39mshape, output\u001B[38;5;241m.\u001B[39mshape):\n\u001B[1;32m    667\u001B[0m     \u001B[38;5;28;01mif\u001B[39;00m e1 \u001B[38;5;129;01mis\u001B[39;00m \u001B[38;5;129;01mnot\u001B[39;00m \u001B[38;5;28;01mNone\u001B[39;00m \u001B[38;5;129;01mand\u001B[39;00m e2 \u001B[38;5;129;01mis\u001B[39;00m \u001B[38;5;129;01mnot\u001B[39;00m \u001B[38;5;28;01mNone\u001B[39;00m \u001B[38;5;129;01mand\u001B[39;00m e1 \u001B[38;5;241m!=\u001B[39m e2:\n",
      "\u001B[0;31mValueError\u001B[0m: Arguments `target` and `output` must have the same rank (ndim). Received: target.shape=(None,), output.shape=(None, 128, 128, 1)"
     ]
    }
   ],
   "execution_count": 52
  },
  {
   "metadata": {
    "ExecuteTime": {
     "end_time": "2024-05-30T14:10:58.840986Z",
     "start_time": "2024-05-30T14:09:50.913669Z"
    }
   },
   "cell_type": "code",
   "source": [
    "from keras import metrics\n",
    "\n",
    "adam = tf.keras.optimizers.Adam(learning_rate=0.001, epsilon=1e-08)\n",
    "epoch = 30\n",
    "batch_size = 10\n",
    "cal1 = tf.keras.callbacks.ModelCheckpoint(save_best_only=True, filepath='softmax_adam_n.keras')\n",
    "cal2 = tf.keras.callbacks.EarlyStopping(patience=5)\n",
    "\n",
    "# Assuming you have defined your model here\n",
    "softmax_adam = tf.keras.Sequential([\n",
    "    tf.keras.layers.Conv2D(32, (3, 3), activation='relu', input_shape=(128, 128, 3)),\n",
    "    tf.keras.layers.MaxPooling2D((2, 2)),\n",
    "    tf.keras.layers.Conv2D(64, (3, 3), activation='relu'),\n",
    "    tf.keras.layers.MaxPooling2D((2, 2)),\n",
    "    tf.keras.layers.Conv2D(64, (3, 3), activation='relu'),\n",
    "    tf.keras.layers.Flatten(),\n",
    "    tf.keras.layers.Dense(64, activation='relu'),\n",
    "    tf.keras.layers.Dense(1, activation='sigmoid')  # 1 neuron for binary classification\n",
    "])\n",
    "\n",
    "softmax_adam.compile(optimizer=adam, loss='binary_crossentropy',\n",
    "                     metrics=['accuracy', 'mse'])\n",
    "\n",
    "# Assuming train_gen and test_gen are your data generators\n",
    "history = softmax_adam.fit(train_gen, validation_data=test_gen, epochs=epoch, callbacks=[cal1, cal2])\n",
    "\n",
    "# Save the model\n",
    "softmax_adam.save('softmax_adam_n.keras')\n",
    "\n",
    "# Get the history\n",
    "history = history.history\n",
    "print(history)"
   ],
   "id": "f78b9c298d200f8c",
   "outputs": [
    {
     "name": "stdout",
     "output_type": "stream",
     "text": [
      "Epoch 1/30\n"
     ]
    },
    {
     "name": "stderr",
     "output_type": "stream",
     "text": [
      "/Users/nafeessiddiqui/PycharmProjects/pythonProject8/.venv/lib/python3.10/site-packages/keras/src/layers/convolutional/base_conv.py:107: UserWarning: Do not pass an `input_shape`/`input_dim` argument to a layer. When using Sequential models, prefer using an `Input(shape)` object as the first layer in the model instead.\n",
      "  super().__init__(activity_regularizer=activity_regularizer, **kwargs)\n"
     ]
    },
    {
     "name": "stdout",
     "output_type": "stream",
     "text": [
      "\u001B[1m1010/1010\u001B[0m \u001B[32m━━━━━━━━━━━━━━━━━━━━\u001B[0m\u001B[37m\u001B[0m \u001B[1m0s\u001B[0m 66ms/step - accuracy: 0.5816 - loss: 0.6878 - mse: 0.2410"
     ]
    },
    {
     "ename": "ValueError",
     "evalue": "Arguments `target` and `output` must have the same shape. Received: target.shape=(None, 2), output.shape=(None, 1)",
     "output_type": "error",
     "traceback": [
      "\u001B[0;31m---------------------------------------------------------------------------\u001B[0m",
      "\u001B[0;31mValueError\u001B[0m                                Traceback (most recent call last)",
      "Cell \u001B[0;32mIn[54], line 25\u001B[0m\n\u001B[1;32m     21\u001B[0m softmax_adam\u001B[38;5;241m.\u001B[39mcompile(optimizer\u001B[38;5;241m=\u001B[39madam, loss\u001B[38;5;241m=\u001B[39m\u001B[38;5;124m'\u001B[39m\u001B[38;5;124mbinary_crossentropy\u001B[39m\u001B[38;5;124m'\u001B[39m,\n\u001B[1;32m     22\u001B[0m                      metrics\u001B[38;5;241m=\u001B[39m[\u001B[38;5;124m'\u001B[39m\u001B[38;5;124maccuracy\u001B[39m\u001B[38;5;124m'\u001B[39m, \u001B[38;5;124m'\u001B[39m\u001B[38;5;124mmse\u001B[39m\u001B[38;5;124m'\u001B[39m])\n\u001B[1;32m     24\u001B[0m \u001B[38;5;66;03m# Assuming train_gen and test_gen are your data generators\u001B[39;00m\n\u001B[0;32m---> 25\u001B[0m history \u001B[38;5;241m=\u001B[39m \u001B[43msoftmax_adam\u001B[49m\u001B[38;5;241;43m.\u001B[39;49m\u001B[43mfit\u001B[49m\u001B[43m(\u001B[49m\u001B[43mtrain_gen\u001B[49m\u001B[43m,\u001B[49m\u001B[43m \u001B[49m\u001B[43mvalidation_data\u001B[49m\u001B[38;5;241;43m=\u001B[39;49m\u001B[43mtest_gen\u001B[49m\u001B[43m,\u001B[49m\u001B[43m \u001B[49m\u001B[43mepochs\u001B[49m\u001B[38;5;241;43m=\u001B[39;49m\u001B[43mepoch\u001B[49m\u001B[43m,\u001B[49m\u001B[43m \u001B[49m\u001B[43mcallbacks\u001B[49m\u001B[38;5;241;43m=\u001B[39;49m\u001B[43m[\u001B[49m\u001B[43mcal1\u001B[49m\u001B[43m,\u001B[49m\u001B[43m \u001B[49m\u001B[43mcal2\u001B[49m\u001B[43m]\u001B[49m\u001B[43m)\u001B[49m\n\u001B[1;32m     27\u001B[0m \u001B[38;5;66;03m# Save the model\u001B[39;00m\n\u001B[1;32m     28\u001B[0m softmax_adam\u001B[38;5;241m.\u001B[39msave(\u001B[38;5;124m'\u001B[39m\u001B[38;5;124msoftmax_adam_n.keras\u001B[39m\u001B[38;5;124m'\u001B[39m)\n",
      "File \u001B[0;32m~/PycharmProjects/pythonProject8/.venv/lib/python3.10/site-packages/keras/src/utils/traceback_utils.py:122\u001B[0m, in \u001B[0;36mfilter_traceback.<locals>.error_handler\u001B[0;34m(*args, **kwargs)\u001B[0m\n\u001B[1;32m    119\u001B[0m     filtered_tb \u001B[38;5;241m=\u001B[39m _process_traceback_frames(e\u001B[38;5;241m.\u001B[39m__traceback__)\n\u001B[1;32m    120\u001B[0m     \u001B[38;5;66;03m# To get the full stack trace, call:\u001B[39;00m\n\u001B[1;32m    121\u001B[0m     \u001B[38;5;66;03m# `keras.config.disable_traceback_filtering()`\u001B[39;00m\n\u001B[0;32m--> 122\u001B[0m     \u001B[38;5;28;01mraise\u001B[39;00m e\u001B[38;5;241m.\u001B[39mwith_traceback(filtered_tb) \u001B[38;5;28;01mfrom\u001B[39;00m \u001B[38;5;28;01mNone\u001B[39;00m\n\u001B[1;32m    123\u001B[0m \u001B[38;5;28;01mfinally\u001B[39;00m:\n\u001B[1;32m    124\u001B[0m     \u001B[38;5;28;01mdel\u001B[39;00m filtered_tb\n",
      "File \u001B[0;32m~/PycharmProjects/pythonProject8/.venv/lib/python3.10/site-packages/keras/src/backend/tensorflow/nn.py:668\u001B[0m, in \u001B[0;36mbinary_crossentropy\u001B[0;34m(target, output, from_logits)\u001B[0m\n\u001B[1;32m    666\u001B[0m \u001B[38;5;28;01mfor\u001B[39;00m e1, e2 \u001B[38;5;129;01min\u001B[39;00m \u001B[38;5;28mzip\u001B[39m(target\u001B[38;5;241m.\u001B[39mshape, output\u001B[38;5;241m.\u001B[39mshape):\n\u001B[1;32m    667\u001B[0m     \u001B[38;5;28;01mif\u001B[39;00m e1 \u001B[38;5;129;01mis\u001B[39;00m \u001B[38;5;129;01mnot\u001B[39;00m \u001B[38;5;28;01mNone\u001B[39;00m \u001B[38;5;129;01mand\u001B[39;00m e2 \u001B[38;5;129;01mis\u001B[39;00m \u001B[38;5;129;01mnot\u001B[39;00m \u001B[38;5;28;01mNone\u001B[39;00m \u001B[38;5;129;01mand\u001B[39;00m e1 \u001B[38;5;241m!=\u001B[39m e2:\n\u001B[0;32m--> 668\u001B[0m         \u001B[38;5;28;01mraise\u001B[39;00m \u001B[38;5;167;01mValueError\u001B[39;00m(\n\u001B[1;32m    669\u001B[0m             \u001B[38;5;124m\"\u001B[39m\u001B[38;5;124mArguments `target` and `output` must have the same shape. \u001B[39m\u001B[38;5;124m\"\u001B[39m\n\u001B[1;32m    670\u001B[0m             \u001B[38;5;124m\"\u001B[39m\u001B[38;5;124mReceived: \u001B[39m\u001B[38;5;124m\"\u001B[39m\n\u001B[1;32m    671\u001B[0m             \u001B[38;5;124mf\u001B[39m\u001B[38;5;124m\"\u001B[39m\u001B[38;5;124mtarget.shape=\u001B[39m\u001B[38;5;132;01m{\u001B[39;00mtarget\u001B[38;5;241m.\u001B[39mshape\u001B[38;5;132;01m}\u001B[39;00m\u001B[38;5;124m, output.shape=\u001B[39m\u001B[38;5;132;01m{\u001B[39;00moutput\u001B[38;5;241m.\u001B[39mshape\u001B[38;5;132;01m}\u001B[39;00m\u001B[38;5;124m\"\u001B[39m\n\u001B[1;32m    672\u001B[0m         )\n\u001B[1;32m    674\u001B[0m output, from_logits \u001B[38;5;241m=\u001B[39m _get_logits(\n\u001B[1;32m    675\u001B[0m     output, from_logits, \u001B[38;5;124m\"\u001B[39m\u001B[38;5;124mSigmoid\u001B[39m\u001B[38;5;124m\"\u001B[39m, \u001B[38;5;124m\"\u001B[39m\u001B[38;5;124mbinary_crossentropy\u001B[39m\u001B[38;5;124m\"\u001B[39m\n\u001B[1;32m    676\u001B[0m )\n\u001B[1;32m    678\u001B[0m \u001B[38;5;28;01mif\u001B[39;00m from_logits:\n",
      "\u001B[0;31mValueError\u001B[0m: Arguments `target` and `output` must have the same shape. Received: target.shape=(None, 2), output.shape=(None, 1)"
     ]
    }
   ],
   "execution_count": 54
  },
  {
   "metadata": {
    "ExecuteTime": {
     "end_time": "2024-05-30T14:04:26.629691Z",
     "start_time": "2024-05-30T14:04:26.619808Z"
    }
   },
   "cell_type": "code",
   "source": "",
   "id": "b7b846f0f9d02049",
   "outputs": [],
   "execution_count": 49
  },
  {
   "metadata": {},
   "cell_type": "code",
   "outputs": [],
   "execution_count": null,
   "source": "",
   "id": "31ff55de535f270c"
  }
 ],
 "metadata": {
  "kernelspec": {
   "display_name": "Python 3",
   "language": "python",
   "name": "python3"
  },
  "language_info": {
   "codemirror_mode": {
    "name": "ipython",
    "version": 2
   },
   "file_extension": ".py",
   "mimetype": "text/x-python",
   "name": "python",
   "nbconvert_exporter": "python",
   "pygments_lexer": "ipython2",
   "version": "2.7.6"
  }
 },
 "nbformat": 4,
 "nbformat_minor": 5
}
