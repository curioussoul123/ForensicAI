{
 "cells": [
  {
   "cell_type": "code",
   "id": "initial_id",
   "metadata": {
    "collapsed": true,
    "ExecuteTime": {
     "end_time": "2024-05-30T14:19:08.950145Z",
     "start_time": "2024-05-30T14:19:08.942314Z"
    }
   },
   "source": [
    "import pandas as pd\n",
    "import numpy as np\n",
    "from matplotlib import pyplot as plt\n",
    "from PIL import Image, ImageChops, ImageEnhance\n",
    "import tensorflow as tf"
   ],
   "outputs": [],
   "execution_count": 8
  },
  {
   "metadata": {
    "ExecuteTime": {
     "end_time": "2024-05-30T14:19:10.209387Z",
     "start_time": "2024-05-30T14:19:09.895640Z"
    }
   },
   "cell_type": "code",
   "source": [
    "# Load the trained model\n",
    "model = tf.keras.models.load_model('./softmax_adam_new.keras')"
   ],
   "id": "29416b6222d6175b",
   "outputs": [],
   "execution_count": 9
  },
  {
   "metadata": {
    "ExecuteTime": {
     "end_time": "2024-05-30T14:23:32.115613Z",
     "start_time": "2024-05-30T14:23:32.104261Z"
    }
   },
   "cell_type": "code",
   "source": [
    "def difference(path):\n",
    "    filename = path\n",
    "    # print(path)\n",
    "    resaved_name = filename.split('.')[-2]+'_resaved.jpg'\n",
    "    # print(resaved_name)\n",
    "    resaved_name = resaved_name.split('/')[-1]\n",
    "    org = Image.open(filename).convert('RGB')\n",
    "    org.save(resaved_name, 'JPEG', quality=92)\n",
    "    resaved = Image.open(resaved_name)\n",
    "    diff = ImageChops.difference(org, resaved)\n",
    "    extrema = diff.getextrema()\n",
    "    max_diff = max([ex[1] for ex in extrema])\n",
    "    if max_diff == 0:\n",
    "        max_diff = 1\n",
    "    scale = 255.0 / max_diff\n",
    "\n",
    "    diff = ImageEnhance.Brightness(diff).enhance(scale)\n",
    "    # diff\n",
    "    return diff"
   ],
   "id": "95edd9b5e8c1b581",
   "outputs": [],
   "execution_count": 20
  },
  {
   "metadata": {
    "ExecuteTime": {
     "end_time": "2024-05-30T14:23:32.837032Z",
     "start_time": "2024-05-30T14:23:32.834558Z"
    }
   },
   "cell_type": "code",
   "source": "",
   "id": "d5e91d3156575c0e",
   "outputs": [],
   "execution_count": 20
  },
  {
   "metadata": {
    "ExecuteTime": {
     "end_time": "2024-05-30T14:23:36.695490Z",
     "start_time": "2024-05-30T14:23:33.545205Z"
    }
   },
   "cell_type": "code",
   "source": [
    "# Input image path from user\n",
    "path = input(\"Enter image path:\\n\")\n",
    "try:\n",
    "    # Open and preprocess the image\n",
    "    img = Image.open(path)\n",
    "    img_diff = np.array(difference(path).resize((128, 128))).flatten() / 255.0\n",
    "    img_diff = img_diff.reshape(-1, 128, 128, 3)\n",
    "except FileNotFoundError:\n",
    "    print(\"Image does not exist or wrong path provided.\")\n",
    "    exit()"
   ],
   "id": "3c68a79f3b71c174",
   "outputs": [],
   "execution_count": 21
  },
  {
   "metadata": {
    "ExecuteTime": {
     "end_time": "2024-05-30T14:23:39.506491Z",
     "start_time": "2024-05-30T14:23:39.431405Z"
    }
   },
   "cell_type": "code",
   "source": "pred = model.predict(img_diff)",
   "id": "dbad17b58b3127bc",
   "outputs": [
    {
     "name": "stdout",
     "output_type": "stream",
     "text": [
      "\u001B[1m1/1\u001B[0m \u001B[32m━━━━━━━━━━━━━━━━━━━━\u001B[0m\u001B[37m\u001B[0m \u001B[1m0s\u001B[0m 24ms/step\n"
     ]
    }
   ],
   "execution_count": 22
  },
  {
   "metadata": {
    "ExecuteTime": {
     "end_time": "2024-05-30T14:23:40.290420Z",
     "start_time": "2024-05-30T14:23:40.286218Z"
    }
   },
   "cell_type": "code",
   "source": [
    "if pred[0][0] > 0.5:\n",
    "    print(\"Prediction: Not Forged\")\n",
    "else:\n",
    "    print(\"Prediction: Forged\")"
   ],
   "id": "5990ac1a37ed113c",
   "outputs": [
    {
     "name": "stdout",
     "output_type": "stream",
     "text": [
      "Prediction: Forged\n"
     ]
    }
   ],
   "execution_count": 23
  },
  {
   "metadata": {},
   "cell_type": "code",
   "outputs": [],
   "execution_count": null,
   "source": "",
   "id": "f1a761664a32ebf2"
  }
 ],
 "metadata": {
  "kernelspec": {
   "display_name": "Python 3",
   "language": "python",
   "name": "python3"
  },
  "language_info": {
   "codemirror_mode": {
    "name": "ipython",
    "version": 2
   },
   "file_extension": ".py",
   "mimetype": "text/x-python",
   "name": "python",
   "nbconvert_exporter": "python",
   "pygments_lexer": "ipython2",
   "version": "2.7.6"
  }
 },
 "nbformat": 4,
 "nbformat_minor": 5
}
